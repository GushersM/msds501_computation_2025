{
 "cells": [
  {
   "cell_type": "markdown",
   "id": "610bcba6",
   "metadata": {},
   "source": [
    "\n",
    "- Using ```input(\"message\")``` take a user input with a message \"`Enter a positive number (0 to stop): `\"\n",
    "- If it is a prime number, print \"`user_input is a prime number`\"\n",
    "- If it is not a prime number, print \"`user_input is not a prime number`\"\n",
    "- Repeat this until the user enters 0\n",
    "- Make sure the user input is in an expected type\n"
   ]
  },
  {
   "cell_type": "code",
   "execution_count": 4,
   "id": "87335bab",
   "metadata": {},
   "outputs": [
    {
     "data": {
      "text/plain": [
       "'4'"
      ]
     },
     "execution_count": 4,
     "metadata": {},
     "output_type": "execute_result"
    }
   ],
   "source": [
    "input(\"Enter a positive number (0 to stop): \")"
   ]
  },
  {
   "cell_type": "code",
   "execution_count": null,
   "id": "1f16c75d",
   "metadata": {},
   "outputs": [
    {
     "name": "stdout",
     "output_type": "stream",
     "text": [
      "Invalid input - this should be a positive number.\n"
     ]
    },
    {
     "ename": "NameError",
     "evalue": "name 'n' is not defined",
     "output_type": "error",
     "traceback": [
      "\u001b[0;31m---------------------------------------------------------------------------\u001b[0m",
      "\u001b[0;31mNameError\u001b[0m                                 Traceback (most recent call last)",
      "Cell \u001b[0;32mIn[5], line 7\u001b[0m\n\u001b[1;32m      4\u001b[0m \u001b[38;5;28;01mexcept\u001b[39;00m \u001b[38;5;167;01mValueError\u001b[39;00m:\n\u001b[1;32m      5\u001b[0m     \u001b[38;5;28mprint\u001b[39m(\u001b[38;5;124m\"\u001b[39m\u001b[38;5;124mInvalid input - this should be a positive number.\u001b[39m\u001b[38;5;124m\"\u001b[39m)\n\u001b[0;32m----> 7\u001b[0m \u001b[38;5;28;01mif\u001b[39;00m (n \u001b[38;5;241m<\u001b[39m \u001b[38;5;241m0\u001b[39m):\n\u001b[1;32m      8\u001b[0m     \u001b[38;5;28mprint\u001b[39m(\u001b[38;5;124m\"\u001b[39m\u001b[38;5;124mInvalid input - this should be a positive number.\u001b[39m\u001b[38;5;124m\"\u001b[39m)\n\u001b[1;32m      9\u001b[0m     \u001b[38;5;28;01mcontinue\u001b[39;00m\n",
      "\u001b[0;31mNameError\u001b[0m: name 'n' is not defined"
     ]
    }
   ],
   "source": [
    "while True:\n",
    "    try:\n",
    "        n = int(input(\"Enter a positive numer (0 to stop): \"))\n",
    "    except ValueError:\n",
    "        print(\"Invalid input - this should be a positive number.\")\n",
    "\n",
    "    if (n < 0):\n",
    "        print(\"Invalid input - this should be a positive number.\")\n",
    "        continue\n",
    "\n",
    "    elif n == 0:\n",
    "        print(\"Done\")\n",
    "        break\n",
    "\n",
    "##Checking if the number is Prime"
   ]
  },
  {
   "cell_type": "code",
   "execution_count": null,
   "id": "b5f23cad",
   "metadata": {},
   "outputs": [],
   "source": []
  }
 ],
 "metadata": {
  "kernelspec": {
   "display_name": "base",
   "language": "python",
   "name": "python3"
  },
  "language_info": {
   "codemirror_mode": {
    "name": "ipython",
    "version": 3
   },
   "file_extension": ".py",
   "mimetype": "text/x-python",
   "name": "python",
   "nbconvert_exporter": "python",
   "pygments_lexer": "ipython3",
   "version": "3.13.5"
  }
 },
 "nbformat": 4,
 "nbformat_minor": 5
}
