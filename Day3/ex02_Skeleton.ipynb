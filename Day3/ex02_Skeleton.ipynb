{
 "cells": [
  {
   "attachments": {},
   "cell_type": "markdown",
   "metadata": {},
   "source": [
    "Given nums, a sorted list of integers, complete remove_duplicates() which returns a sorted array without any duplicates by removing them in place.\n",
    "- Ex. nums = [1, 1, 2], remove_duplicates(nums) should changes nums to [1,2]"
   ]
  },
  {
   "cell_type": "code",
   "execution_count": 2,
   "metadata": {},
   "outputs": [
    {
     "ename": "SyntaxError",
     "evalue": "'function call' is an illegal expression for augmented assignment (1178413724.py, line 6)",
     "output_type": "error",
     "traceback": [
      "\u001b[0;36m  Cell \u001b[0;32mIn[2], line 6\u001b[0;36m\u001b[0m\n\u001b[0;31m    len(nums) -= 1\u001b[0m\n\u001b[0m    ^\u001b[0m\n\u001b[0;31mSyntaxError\u001b[0m\u001b[0;31m:\u001b[0m 'function call' is an illegal expression for augmented assignment\n"
     ]
    }
   ],
   "source": [
    "def remove_duplicates(nums):\n",
    "    i = 0\n",
    "    while(i < len(nums)-1):\n",
    "        if(nums[i] == nums[i+1]):\n",
    "            nums.pop(i+1)\n",
    "            len(nums) -= 1\n",
    "    else\n",
    "        i+=1"
   ]
  },
  {
   "cell_type": "code",
   "execution_count": null,
   "metadata": {},
   "outputs": [],
   "source": [
    "nums = [0, 0, 0, 1, 1, 2, 2, 3, 3]\n",
    "remove_duplicates(nums)"
   ]
  },
  {
   "cell_type": "code",
   "execution_count": null,
   "metadata": {},
   "outputs": [],
   "source": [
    "nums"
   ]
  },
  {
   "cell_type": "code",
   "execution_count": null,
   "metadata": {},
   "outputs": [],
   "source": []
  }
 ],
 "metadata": {
  "kernelspec": {
   "display_name": "base",
   "language": "python",
   "name": "python3"
  },
  "language_info": {
   "codemirror_mode": {
    "name": "ipython",
    "version": 3
   },
   "file_extension": ".py",
   "mimetype": "text/x-python",
   "name": "python",
   "nbconvert_exporter": "python",
   "pygments_lexer": "ipython3",
   "version": "3.13.5"
  },
  "orig_nbformat": 4
 },
 "nbformat": 4,
 "nbformat_minor": 2
}
