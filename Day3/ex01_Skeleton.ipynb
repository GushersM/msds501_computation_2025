{
 "cells": [
  {
   "attachments": {},
   "cell_type": "markdown",
   "metadata": {},
   "source": [
    "If you are financing including mortgages/loans, you need to pay compound interests which includuing your principal and accumulated interest. To calculate the ending balance for compound interest, the equation is following.\n",
    "\n",
    "$$\n",
    "Ending\\_Balance = Principal \\times (1 + \\frac{APR}{Yearly\\_Interest\\_Frequency}) ^ {Years \\times Yearly\\_Interest\\_Frequency}\n",
    "$$\n",
    "\n",
    "Complete ending_balance(principal, apr, years, interest_frequency) which returns the ending balance.\n",
    "- You can assume that apr is given as %. \n",
    "\n",
    "<b>Ex.</b> When principal = 20000, apr = 6, years = 3, interest_frequency = 12, ending_balance(principal, apr/100, years, interest_frequency) returns 23933.610496468293.\n",
    "\n",
    "Refernce - https://www.rocketmortgage.com/learn/compound-interest"
   ]
  },
  {
   "cell_type": "code",
   "execution_count": 1,
   "metadata": {},
   "outputs": [
    {
     "ename": "_IncompleteInputError",
     "evalue": "incomplete input (2415540723.py, line 2)",
     "output_type": "error",
     "traceback": [
      "\u001b[0;36m  Cell \u001b[0;32mIn[1], line 2\u001b[0;36m\u001b[0m\n\u001b[0;31m    \u001b[0m\n\u001b[0m    ^\u001b[0m\n\u001b[0;31m_IncompleteInputError\u001b[0m\u001b[0;31m:\u001b[0m incomplete input\n"
     ]
    }
   ],
   "source": [
    "def ending_balance(principal, apr, years, interest_frequency):\n",
    "    "
   ]
  },
  {
   "cell_type": "code",
   "execution_count": null,
   "metadata": {},
   "outputs": [],
   "source": [
    "principal = 20000\n",
    "apr = 6\n",
    "years = 3\n",
    "interest_frequency = 12\n",
    "ending_balance(principal, apr, years, interest_frequency)"
   ]
  },
  {
   "cell_type": "code",
   "execution_count": null,
   "metadata": {},
   "outputs": [],
   "source": [
    "principal = 4000\n",
    "apr = 2\n",
    "years = 4\n",
    "interest_frequency = 2\n",
    "ending_balance(principal, apr, years, interest_frequency)"
   ]
  },
  {
   "cell_type": "code",
   "execution_count": null,
   "metadata": {},
   "outputs": [],
   "source": []
  }
 ],
 "metadata": {
  "kernelspec": {
   "display_name": "base",
   "language": "python",
   "name": "python3"
  },
  "language_info": {
   "codemirror_mode": {
    "name": "ipython",
    "version": 3
   },
   "file_extension": ".py",
   "mimetype": "text/x-python",
   "name": "python",
   "nbconvert_exporter": "python",
   "pygments_lexer": "ipython3",
   "version": "3.13.5"
  },
  "orig_nbformat": 4
 },
 "nbformat": 4,
 "nbformat_minor": 2
}
