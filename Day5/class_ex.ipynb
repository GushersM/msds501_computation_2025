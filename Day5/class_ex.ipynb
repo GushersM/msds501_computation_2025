{
 "cells": [
  {
   "cell_type": "code",
   "execution_count": null,
   "id": "92065b1b",
   "metadata": {},
   "outputs": [],
   "source": [
    "def upper_cases(input:str) -> str:\n",
    "    return None\n",
    "    #return input.lower()\n",
    "\n",
    "upper_cases(1)"
   ]
  },
  {
   "cell_type": "code",
   "execution_count": null,
   "id": "ac18157c",
   "metadata": {},
   "outputs": [
    {
     "name": "stdout",
     "output_type": "stream",
     "text": [
      "Help on function upper_class in module __main__:\n",
      "\n",
      "upper_class(input: str) -> str\n",
      "\n"
     ]
    }
   ],
   "source": [
    "help(upper_cases)"
   ]
  },
  {
   "cell_type": "code",
   "execution_count": 4,
   "id": "673eec1d",
   "metadata": {},
   "outputs": [],
   "source": [
    "def test_uppercase():\n",
    "    assert upper_cases(\"abc\") == \"abc\""
   ]
  },
  {
   "cell_type": "code",
   "execution_count": 5,
   "id": "4e654255",
   "metadata": {},
   "outputs": [
    {
     "name": "stdout",
     "output_type": "stream",
     "text": [
      "[(4, 'a'), (2, 'b'), (3, 'c'), (1, 'd')]\n"
     ]
    }
   ],
   "source": [
    "vals = [(3, 'c'), (4, 'a'), (2, 'b'), (1, 'd')]\n",
    "vals.sort(key=(lambda x : x[1]))\n",
    "print(vals)"
   ]
  },
  {
   "cell_type": "code",
   "execution_count": null,
   "id": "72237646",
   "metadata": {},
   "outputs": [],
   "source": []
  }
 ],
 "metadata": {
  "kernelspec": {
   "display_name": "base",
   "language": "python",
   "name": "python3"
  },
  "language_info": {
   "codemirror_mode": {
    "name": "ipython",
    "version": 3
   },
   "file_extension": ".py",
   "mimetype": "text/x-python",
   "name": "python",
   "nbconvert_exporter": "python",
   "pygments_lexer": "ipython3",
   "version": "3.13.5"
  }
 },
 "nbformat": 4,
 "nbformat_minor": 5
}
