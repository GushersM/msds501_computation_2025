{
 "cells": [
  {
   "cell_type": "code",
   "execution_count": 9,
   "id": "22382e1b",
   "metadata": {},
   "outputs": [
    {
     "data": {
      "text/plain": [
       "2"
      ]
     },
     "execution_count": 9,
     "metadata": {},
     "output_type": "execute_result"
    }
   ],
   "source": [
    "count = 0\n",
    "\n",
    "def add_nums(lst):\n",
    "    global count\n",
    "    for item in lst:\n",
    "        if type(item) == int:\n",
    "            count += 1\n",
    "    return count\n",
    "\n",
    "\n",
    "add_nums([1, 2, \"3\"])\n",
    "count"
   ]
  },
  {
   "cell_type": "code",
   "execution_count": 10,
   "id": "7d0e4959",
   "metadata": {},
   "outputs": [
    {
     "data": {
      "text/plain": [
       "5"
      ]
     },
     "execution_count": 10,
     "metadata": {},
     "output_type": "execute_result"
    }
   ],
   "source": [
    "add_nums([1, 2, \"3\", 4])\n",
    "count"
   ]
  },
  {
   "cell_type": "code",
   "execution_count": null,
   "id": "81229df9",
   "metadata": {},
   "outputs": [],
   "source": [
    "def find_palindrome_words(sentence: str) -> list[str]:\n",
    "    for input_sentence return list\n",
    "    \n",
    "find_palindrome_words(input_sentence) == ['I', 'did', 'a', 'tot', 'pop', 'Noon']"
   ]
  }
 ],
 "metadata": {
  "kernelspec": {
   "display_name": "base",
   "language": "python",
   "name": "python3"
  },
  "language_info": {
   "codemirror_mode": {
    "name": "ipython",
    "version": 3
   },
   "file_extension": ".py",
   "mimetype": "text/x-python",
   "name": "python",
   "nbconvert_exporter": "python",
   "pygments_lexer": "ipython3",
   "version": "3.13.5"
  }
 },
 "nbformat": 4,
 "nbformat_minor": 5
}
