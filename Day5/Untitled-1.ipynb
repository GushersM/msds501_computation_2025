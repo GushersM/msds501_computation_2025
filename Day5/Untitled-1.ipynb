{
 "cells": [
  {
   "cell_type": "code",
   "execution_count": 36,
   "id": "4d4f5638",
   "metadata": {},
   "outputs": [],
   "source": [
    "def introduce(name, school):\n",
    "    return f\"I am {name}. I go to {school}\""
   ]
  },
  {
   "cell_type": "code",
   "execution_count": 37,
   "id": "43da8f79",
   "metadata": {},
   "outputs": [
    {
     "data": {
      "text/plain": [
       "'I am USF. I go to Sai'"
      ]
     },
     "execution_count": 37,
     "metadata": {},
     "output_type": "execute_result"
    }
   ],
   "source": [
    "#Positional Argument\n",
    "introduce(\"Sai\", \"USF\")\n",
    "introduce(\"USF\", \"Sai\")"
   ]
  },
  {
   "cell_type": "code",
   "execution_count": 38,
   "id": "9f2f69d9",
   "metadata": {},
   "outputs": [
    {
     "data": {
      "text/plain": [
       "'I am Sai. I go to USF'"
      ]
     },
     "execution_count": 38,
     "metadata": {},
     "output_type": "execute_result"
    }
   ],
   "source": [
    "#Keyword Parameters\n",
    "introduce(name=\"Sai\", school=\"USF\")\n"
   ]
  },
  {
   "cell_type": "code",
   "execution_count": 39,
   "id": "0a8d231f",
   "metadata": {},
   "outputs": [
    {
     "data": {
      "text/plain": [
       "'I am Sai. I go to USF'"
      ]
     },
     "execution_count": 39,
     "metadata": {},
     "output_type": "execute_result"
    }
   ],
   "source": [
    "introduce(school=\"USF\", name=\"Sai\")"
   ]
  },
  {
   "cell_type": "code",
   "execution_count": 40,
   "id": "c9c4d7b8",
   "metadata": {},
   "outputs": [],
   "source": [
    "def introduce(*arg):\n",
    "    \"\"\"\n",
    "    arbitary argument\n",
    "    \"\"\"\n",
    "    return f\"I am {arg[0]}. I go to {arg[1]}\""
   ]
  },
  {
   "cell_type": "code",
   "execution_count": 41,
   "id": "af969bd2",
   "metadata": {},
   "outputs": [
    {
     "data": {
      "text/plain": [
       "'I am Diane. I go to USF'"
      ]
     },
     "execution_count": 41,
     "metadata": {},
     "output_type": "execute_result"
    }
   ],
   "source": [
    "introduce( \"Diane\", \"USF\", \"Corte Madera\", \"Jonathan\", \"Cat\", \"Dog\", 100)"
   ]
  },
  {
   "cell_type": "code",
   "execution_count": 46,
   "id": "0f5af439",
   "metadata": {},
   "outputs": [
    {
     "data": {
      "text/plain": [
       "\"I am Diane. My cats are ['Nabi', 'Chicken']\""
      ]
     },
     "execution_count": 46,
     "metadata": {},
     "output_type": "execute_result"
    }
   ],
   "source": [
    "def introduce(**var):\n",
    "    \"\"\"\n",
    "    arbitary keywork argument\n",
    "    \"\"\"\n",
    "    if \"name\" in var and \"school\" in var:\n",
    "        return f\"I am {var[\"name\"]}, I go to {var[\"school\"]}\"\n",
    "    elif \"name\" in var and \"cat\" in var:\n",
    "        return f\"I am {var[\"name\"]}. My cats are {var[\"cat\"]}\"\n",
    "\n",
    "introduce(city=\"CM\", name=\"Diane\", cat=[\"Nabi\", \"Chicken\"])"
   ]
  },
  {
   "cell_type": "code",
   "execution_count": 50,
   "id": "9f31c947",
   "metadata": {},
   "outputs": [],
   "source": [
    "def return_test(input):\n",
    "    if input > 4:\n",
    "        return \"Too small\"\n",
    "    else:\n",
    "        return \"Yea\"\n",
    "    print(\"it's Friday\")"
   ]
  },
  {
   "cell_type": "code",
   "execution_count": 53,
   "id": "59fa71e3",
   "metadata": {},
   "outputs": [
    {
     "data": {
      "text/plain": [
       "'Too small'"
      ]
     },
     "execution_count": 53,
     "metadata": {},
     "output_type": "execute_result"
    }
   ],
   "source": [
    "return_test(5)"
   ]
  },
  {
   "cell_type": "code",
   "execution_count": null,
   "id": "fca9e8ef",
   "metadata": {},
   "outputs": [],
   "source": []
  }
 ],
 "metadata": {
  "kernelspec": {
   "display_name": "base",
   "language": "python",
   "name": "python3"
  },
  "language_info": {
   "codemirror_mode": {
    "name": "ipython",
    "version": 3
   },
   "file_extension": ".py",
   "mimetype": "text/x-python",
   "name": "python",
   "nbconvert_exporter": "python",
   "pygments_lexer": "ipython3",
   "version": "3.13.5"
  }
 },
 "nbformat": 4,
 "nbformat_minor": 5
}
